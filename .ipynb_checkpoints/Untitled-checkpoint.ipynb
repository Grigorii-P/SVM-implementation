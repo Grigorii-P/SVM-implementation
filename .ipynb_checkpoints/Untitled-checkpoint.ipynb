{
 "cells": [
  {
   "cell_type": "markdown",
   "metadata": {},
   "source": [
    "### удалить какие-то фичи"
   ]
  },
  {
   "cell_type": "code",
   "execution_count": 1,
   "metadata": {},
   "outputs": [],
   "source": [
    "import pandas as pd\n",
    "import numpy as np\n",
    "from sklearn.model_selection import train_test_split\n",
    "from kernels import Kernel\n",
    "import svm\n",
    "import time\n",
    "from sklearn import svm as sksvm\n",
    "\n",
    "def accuracy(x, y):\n",
    "    count = 0\n",
    "    for i in range(len(x)):\n",
    "        if x[i] == y[i]:\n",
    "            count += 1\n",
    "    return count/len(x)"
   ]
  },
  {
   "cell_type": "code",
   "execution_count": 24,
   "metadata": {},
   "outputs": [],
   "source": [
    "train = pd.read_csv('/Users/grigoriipogorelov/Desktop/train.csv')\n",
    "train['Date'] = pd.to_datetime(train['Dates'], errors='coerce')\n",
    "train['Year'] = train['Date'].dt.year\n",
    "train['Month'] = train['Date'].dt.month\n",
    "train['WeekOfYear'] = train['Date'].dt.weekofyear\n",
    "train['Day'] = train['Date'].dt.day\n",
    "train['Time'] = train['Date'].dt.time\n",
    "train['Hour'] = train['Date'].dt.hour\n",
    "# train = train.drop(['Dates','Date','Time','Resolution','Descript','Address'], axis=1)\n",
    "train = train.drop(['Dates','Date','Time','Resolution','Descript','Address','DayOfWeek', 'WeekOfYear'], axis=1)\n",
    "\n",
    "# cat_cols = ['DayOfWeek', 'PdDistrict', 'Year', 'Month', 'WeekOfYear', 'Day', 'Hour']\n",
    "cat_cols = ['PdDistrict', 'Year', 'Month', 'Day', 'Hour']\n",
    "for cat in cat_cols:\n",
    "    train = pd.get_dummies(train, columns=[cat])\n",
    "# train.head()"
   ]
  },
  {
   "cell_type": "code",
   "execution_count": 25,
   "metadata": {},
   "outputs": [],
   "source": [
    "train_proportion = 0.025\n",
    "train_len = len(train)\n",
    "train = train.sample(frac=1)\n",
    "train = train.iloc[:int(len(train)*train_proportion)]\n",
    "\n",
    "\n",
    "cats = ['LARCENY/THEFT', 'OTHER OFFENSES']      ##.   численно вывести\n",
    "train_0 = train.loc[train['Category'] == cats[0]]\n",
    "train_1 = train.loc[train['Category'] == cats[1]]\n",
    "frames = [train_0, train_1]\n",
    "data = pd.concat(frames)\n",
    "\n",
    "\n",
    "data = data.as_matrix()\n",
    "data[data == cats[0]] = 1\n",
    "data[data == cats[1]] = -1\n",
    "data = np.array(data, dtype='float')\n",
    "X_train, X_test, y_train, y_test = train_test_split(data[:, 1:], data[:, 0])"
   ]
  },
  {
   "cell_type": "code",
   "execution_count": 26,
   "metadata": {},
   "outputs": [
    {
     "name": "stdout",
     "output_type": "stream",
     "text": [
      "(5719, 92)\n",
      "(1907, 92)\n"
     ]
    }
   ],
   "source": [
    "print(X_train.shape)\n",
    "print(X_test.shape)"
   ]
  },
  {
   "cell_type": "code",
   "execution_count": 27,
   "metadata": {
    "scrolled": true
   },
   "outputs": [
    {
     "name": "stdout",
     "output_type": "stream",
     "text": [
      "     pcost       dcost       gap    pres   dres\n",
      " 0: -2.7626e+03 -1.3994e+03  4e+04  3e+01  8e-10\n",
      " 1: -4.2273e+02 -1.3417e+03  2e+03  7e-01  8e-10\n",
      " 2: -3.7707e+02 -6.2780e+02  3e+02  9e-15  1e-10\n",
      " 3: -4.1361e+02 -4.9528e+02  8e+01  4e-16  1e-10\n",
      " 4: -4.1663e+02 -4.8236e+02  7e+01  2e-15  1e-10\n",
      " 5: -4.2496e+02 -4.4943e+02  2e+01  1e-14  2e-10\n",
      " 6: -4.2781e+02 -4.3610e+02  8e+00  1e-14  2e-10\n",
      " 7: -4.2885e+02 -4.3113e+02  2e+00  2e-14  2e-10\n",
      " 8: -4.2895e+02 -4.3079e+02  2e+00  9e-15  2e-10\n",
      " 9: -4.2919e+02 -4.2994e+02  8e-01  4e-15  2e-10\n",
      "10: -4.2930e+02 -4.2961e+02  3e-01  9e-15  2e-10\n",
      "11: -4.2933e+02 -4.2952e+02  2e-01  3e-15  2e-10\n",
      "12: -4.2936e+02 -4.2943e+02  6e-02  1e-15  2e-10\n",
      "13: -4.2937e+02 -4.2941e+02  4e-02  4e-15  2e-10\n",
      "14: -4.2938e+02 -4.2939e+02  1e-02  3e-15  2e-10\n",
      "15: -4.2938e+02 -4.2938e+02  2e-03  2e-14  2e-10\n",
      "16: -4.2938e+02 -4.2938e+02  2e-04  1e-14  2e-10\n",
      "Optimal solution found.\n",
      "4  minutes for training\n",
      "0  minutes for predicting\n"
     ]
    }
   ],
   "source": [
    "start = time.time()\n",
    "C = 0.1\n",
    "trainer = svm.SVMTrainer(kernel=Kernel.linear(), c=C)\n",
    "model = trainer.train(X_train, y_train)\n",
    "end = time.time()\n",
    "print(int((end - start) / 60), ' minutes for training')\n",
    "\n",
    "\n",
    "start = time.time()\n",
    "predictions = []\n",
    "for x in X_test:\n",
    "    predictions.append(model.predict(x))\n",
    "end = time.time()\n",
    "print(int((end - start) / 60), ' minutes for predicting')"
   ]
  },
  {
   "cell_type": "code",
   "execution_count": 28,
   "metadata": {
    "collapsed": true
   },
   "outputs": [],
   "source": [
    "clf = sksvm.SVC()\n",
    "clf.fit(X_train, y_train)\n",
    "pred_real_svm = clf.predict(X_test)"
   ]
  },
  {
   "cell_type": "code",
   "execution_count": 29,
   "metadata": {},
   "outputs": [
    {
     "name": "stdout",
     "output_type": "stream",
     "text": [
      "my accuracy is  0.6282118510749869\n",
      "scikit accuracy is  0.6282118510749869\n"
     ]
    }
   ],
   "source": [
    "print('my accuracy is ', accuracy(y_test, predictions))\n",
    "print('scikit accuracy is ', accuracy(y_test, pred_real_svm))"
   ]
  },
  {
   "cell_type": "markdown",
   "metadata": {},
   "source": [
    "data = 0.02, 0.025\n",
    "accuracy - идеально совпадает, блять"
   ]
  }
 ],
 "metadata": {
  "kernelspec": {
   "display_name": "Python 3",
   "language": "python",
   "name": "python3"
  },
  "language_info": {
   "codemirror_mode": {
    "name": "ipython",
    "version": 3
   },
   "file_extension": ".py",
   "mimetype": "text/x-python",
   "name": "python",
   "nbconvert_exporter": "python",
   "pygments_lexer": "ipython3",
   "version": "3.6.2"
  }
 },
 "nbformat": 4,
 "nbformat_minor": 2
}
