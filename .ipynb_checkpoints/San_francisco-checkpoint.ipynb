{
 "cells": [
  {
   "cell_type": "markdown",
   "metadata": {},
   "source": [
    "### 'Assault', 'Robbery', and 'Sex Offences Forcible' categories. Let's call them 'Violent'\n",
    "![](./img/img1.jpeg)\n",
    "![](./img/img2.jpeg)\n",
    "![](./img/img3.jpeg)\n",
    "![](./img/img4.jpeg)\n",
    "![](./img/img5.jpeg)\n",
    "![](./img/img6.jpeg)"
   ]
  },
  {
   "cell_type": "markdown",
   "metadata": {},
   "source": [
    "### This time, taking into account all the categories of crime\n",
    "![](./img/img7.jpeg)"
   ]
  },
  {
   "cell_type": "markdown",
   "metadata": {
    "scrolled": true
   },
   "source": [
    "### добавить адрес\n",
    "### как-то разбить Address, чтоб было меньше чем 23000 уникальных эл-ов\n",
    "### если убрать Category, то множество строк будут одинаковыми, как бороться?\n",
    "### можно добавить polynomial features от scikit"
   ]
  },
  {
   "cell_type": "markdown",
   "metadata": {},
   "source": [
    "### добавить комментарии\n",
    "### почистить в .py все лишнее"
   ]
  },
  {
   "cell_type": "code",
   "execution_count": 1,
   "metadata": {
    "collapsed": true
   },
   "outputs": [],
   "source": [
    "import pandas as pd\n",
    "import numpy as np\n",
    "import cvxopt\n",
    "import cvxopt.solvers\n",
    "from sklearn.model_selection import train_test_split\n",
    "import matplotlib.pyplot as plt\n",
    "from kernels import Kernel\n",
    "import svm\n",
    "import time\n",
    "import copy"
   ]
  },
  {
   "cell_type": "code",
   "execution_count": 2,
   "metadata": {
    "collapsed": true
   },
   "outputs": [],
   "source": [
    "def accuracy(x, y):\n",
    "    count = 0\n",
    "    for i in range(len(x)):\n",
    "        if x[i] == y[i]:\n",
    "            count += 1\n",
    "    return count/len(x)"
   ]
  },
  {
   "cell_type": "code",
   "execution_count": 2,
   "metadata": {
    "scrolled": false
   },
   "outputs": [],
   "source": [
    "train = pd.read_csv('/Users/grigoriipogorelov/Desktop/train.csv')\n",
    "train['Date'] = pd.to_datetime(train['Dates'], errors='coerce')\n",
    "train['Year'] = train['Date'].dt.year\n",
    "train['Month'] = train['Date'].dt.month\n",
    "train['WeekOfYear'] = train['Date'].dt.weekofyear\n",
    "train['Day'] = train['Date'].dt.day\n",
    "train['Time'] = train['Date'].dt.time\n",
    "train['Hour'] = train['Date'].dt.hour\n",
    "train = train.drop(['Dates','Date','Time','Resolution','Descript','Address'], axis=1)\n",
    "\n",
    "\n",
    "# test = pd.read_csv('/Users/grigoriipogorelov/Desktop/test.csv')\n",
    "# test['Date'] = pd.to_datetime(test['Dates'], errors='coerce')\n",
    "# test['Year'] = test['Date'].dt.year\n",
    "# test['Month'] = test['Date'].dt.month\n",
    "# test['WeekOfYear'] = test['Date'].dt.weekofyear\n",
    "# test['Day'] = test['Date'].dt.day\n",
    "# test['Time'] = test['Date'].dt.time\n",
    "# test['Hour'] = test['Date'].dt.hour\n",
    "# test = test.drop(['Dates','Date','Time','Address'], axis=1)\n"
   ]
  },
  {
   "cell_type": "code",
   "execution_count": 5,
   "metadata": {
    "scrolled": true
   },
   "outputs": [
    {
     "data": {
      "text/plain": [
       "LARCENY/THEFT                  174900\n",
       "OTHER OFFENSES                 126182\n",
       "NON-CRIMINAL                    92304\n",
       "ASSAULT                         76876\n",
       "DRUG/NARCOTIC                   53971\n",
       "VEHICLE THEFT                   53781\n",
       "VANDALISM                       44725\n",
       "WARRANTS                        42214\n",
       "BURGLARY                        36755\n",
       "SUSPICIOUS OCC                  31414\n",
       "MISSING PERSON                  25989\n",
       "ROBBERY                         23000\n",
       "FRAUD                           16679\n",
       "FORGERY/COUNTERFEITING          10609\n",
       "SECONDARY CODES                  9985\n",
       "WEAPON LAWS                      8555\n",
       "PROSTITUTION                     7484\n",
       "TRESPASS                         7326\n",
       "STOLEN PROPERTY                  4540\n",
       "SEX OFFENSES FORCIBLE            4388\n",
       "DISORDERLY CONDUCT               4320\n",
       "DRUNKENNESS                      4280\n",
       "RECOVERED VEHICLE                3138\n",
       "KIDNAPPING                       2341\n",
       "DRIVING UNDER THE INFLUENCE      2268\n",
       "RUNAWAY                          1946\n",
       "LIQUOR LAWS                      1903\n",
       "ARSON                            1513\n",
       "LOITERING                        1225\n",
       "EMBEZZLEMENT                     1166\n",
       "SUICIDE                           508\n",
       "FAMILY OFFENSES                   491\n",
       "BAD CHECKS                        406\n",
       "BRIBERY                           289\n",
       "EXTORTION                         256\n",
       "SEX OFFENSES NON FORCIBLE         148\n",
       "GAMBLING                          146\n",
       "PORNOGRAPHY/OBSCENE MAT            22\n",
       "TREA                                6\n",
       "Name: Category, dtype: int64"
      ]
     },
     "execution_count": 5,
     "metadata": {},
     "output_type": "execute_result"
    }
   ],
   "source": [
    "train.Category.value_counts()"
   ]
  },
  {
   "cell_type": "code",
   "execution_count": 4,
   "metadata": {
    "scrolled": true
   },
   "outputs": [
    {
     "name": "stdout",
     "output_type": "stream",
     "text": [
      "(5268, 126)\n",
      "(5268, 126)\n"
     ]
    }
   ],
   "source": [
    "cat_cols = ['DayOfWeek','PdDistrict', 'Year', 'Month', 'WeekOfYear', 'Day', 'Hour']\n",
    "for cat in cat_cols:\n",
    "    train = pd.get_dummies(train, columns=[cat])\n",
    "#     test = pd.get_dummies(test, columns=[cat])\n",
    "\n",
    "train_len = len(train)\n",
    "train_proportion = 0.006\n",
    "train = train.sample(frac=1)\n",
    "train_copy = copy.copy(train)\n",
    "train = train.iloc[:int(len(train)*train_proportion)]\n",
    "test = train_copy.iloc[int(train_len*train_proportion):2*int(train_len*train_proportion)]\n",
    "\n",
    "\n",
    "categories = train.Category.unique()\n",
    "category_len = len(train['Category'].unique())\n",
    "samples = []\n",
    "for i in range(category_len-1):\n",
    "    for j in range(i+1, category_len):\n",
    "        samples.append(categories[i] + '+' + categories[j])\n",
    "        \n",
    "\n",
    "train_sets = []\n",
    "for sample in samples:\n",
    "    cats = sample.split('+')\n",
    "    train_0 = train.loc[train['Category'] == cats[0]]\n",
    "    train_1 = train.loc[train['Category'] == cats[1]]\n",
    "    frames = [train_0, train_1]\n",
    "    train_sets.append(pd.concat(frames))\n",
    "    \n",
    "print(train.shape)\n",
    "print(test.shape)"
   ]
  },
  {
   "cell_type": "code",
   "execution_count": 5,
   "metadata": {},
   "outputs": [
    {
     "data": {
      "text/plain": [
       "630"
      ]
     },
     "execution_count": 5,
     "metadata": {},
     "output_type": "execute_result"
    }
   ],
   "source": [
    "d = {}\n",
    "categories = train.Category.unique()\n",
    "for i, cat in enumerate(categories):\n",
    "    d[cat] = i\n",
    "    \n",
    "len(train_sets)"
   ]
  },
  {
   "cell_type": "code",
   "execution_count": 7,
   "metadata": {
    "scrolled": true
   },
   "outputs": [
    {
     "ename": "TypeError",
     "evalue": "string indices must be integers",
     "output_type": "error",
     "traceback": [
      "\u001b[0;31m---------------------------------------------------------------------------\u001b[0m",
      "\u001b[0;31mTypeError\u001b[0m                                 Traceback (most recent call last)",
      "\u001b[0;32m<ipython-input-7-0221d030b209>\u001b[0m in \u001b[0;36m<module>\u001b[0;34m()\u001b[0m\n\u001b[1;32m      7\u001b[0m \u001b[0;32mfor\u001b[0m \u001b[0mi\u001b[0m\u001b[0;34m,\u001b[0m \u001b[0mdata\u001b[0m \u001b[0;32min\u001b[0m \u001b[0menumerate\u001b[0m\u001b[0;34m(\u001b[0m\u001b[0mtrain_sets\u001b[0m\u001b[0;34m[\u001b[0m\u001b[0;36m0\u001b[0m\u001b[0;34m]\u001b[0m\u001b[0;34m)\u001b[0m\u001b[0;34m:\u001b[0m\u001b[0;34m\u001b[0m\u001b[0m\n\u001b[1;32m      8\u001b[0m     \u001b[0m_d\u001b[0m \u001b[0;34m=\u001b[0m \u001b[0;34m{\u001b[0m\u001b[0;34m}\u001b[0m\u001b[0;34m\u001b[0m\u001b[0m\n\u001b[0;32m----> 9\u001b[0;31m     \u001b[0moptions\u001b[0m \u001b[0;34m=\u001b[0m \u001b[0mdata\u001b[0m\u001b[0;34m[\u001b[0m\u001b[0;34m'Category'\u001b[0m\u001b[0;34m]\u001b[0m\u001b[0;34m.\u001b[0m\u001b[0munique\u001b[0m\u001b[0;34m(\u001b[0m\u001b[0;34m)\u001b[0m\u001b[0;34m\u001b[0m\u001b[0m\n\u001b[0m\u001b[1;32m     10\u001b[0m     \u001b[0mdata\u001b[0m \u001b[0;34m=\u001b[0m \u001b[0mdata\u001b[0m\u001b[0;34m.\u001b[0m\u001b[0mas_matrix\u001b[0m\u001b[0;34m(\u001b[0m\u001b[0;34m)\u001b[0m\u001b[0;34m\u001b[0m\u001b[0m\n\u001b[1;32m     11\u001b[0m     \u001b[0mdata\u001b[0m\u001b[0;34m[\u001b[0m\u001b[0mdata\u001b[0m \u001b[0;34m==\u001b[0m \u001b[0moptions\u001b[0m\u001b[0;34m[\u001b[0m\u001b[0;36m0\u001b[0m\u001b[0;34m]\u001b[0m\u001b[0;34m]\u001b[0m \u001b[0;34m=\u001b[0m \u001b[0;36m1\u001b[0m\u001b[0;34m\u001b[0m\u001b[0m\n",
      "\u001b[0;31mTypeError\u001b[0m: string indices must be integers"
     ]
    }
   ],
   "source": [
    "start = time.time()\n",
    "\n",
    "models = []\n",
    "cat_to_number_each_model = []\n",
    "C = 0.1\n",
    "# for i, data in enumerate(train_sets):\n",
    "for i, data in enumerate(train_sets[0]):\n",
    "    _d = {}\n",
    "    options = data['Category'].unique()\n",
    "    data = data.as_matrix()\n",
    "    data[data == options[0]] = 1\n",
    "    _d['1'] = options[0]\n",
    "    data[data == options[1]] = -1\n",
    "    _d['-1'] = options[1]\n",
    "    data = np.array(data, dtype='float')\n",
    "    trainer = svm.SVMTrainer(kernel=Kernel.linear(), c=C)\n",
    "    model = trainer.train(data[:,1:], data[:,0])\n",
    "    models.append(model)\n",
    "    cat_to_number_each_model.append(_d)\n",
    "    print()\n",
    "    print('MODEL '+str(i)+' finished')\n",
    "    print()\n",
    "\n",
    "end = time.time()\n",
    "print(int((end - start)/60), ' minutes for training')"
   ]
  },
  {
   "cell_type": "code",
   "execution_count": 10,
   "metadata": {
    "scrolled": true
   },
   "outputs": [],
   "source": [
    "# test = test.replace({'Category': d})\n",
    "labels = test['Category'].as_matrix()\n",
    "test = test.as_matrix()\n",
    "test = np.array(test[:,1:], dtype='float')\n",
    "\n",
    "start = time.time()\n",
    "\n",
    "# should stick to 'samples' order\n",
    "predictions_for_each_model = []\n",
    "for model in models:\n",
    "    pred = []\n",
    "    for t in test:\n",
    "        pred.append(model.predict(t))\n",
    "    predictions_for_each_model.append(pred)\n",
    "    \n",
    "end = time.time()\n",
    "print(int((end - start)/60), ' minutes for predicting')"
   ]
  },
  {
   "cell_type": "code",
   "execution_count": 11,
   "metadata": {
    "scrolled": true
   },
   "outputs": [],
   "source": [
    "count_for_categories = {}\n",
    "for cat in categories:\n",
    "    count_for_categories[cat] = 0\n",
    "\n",
    "combo_predictions = []\n",
    "pred_len = len(predictions_for_each_model[0])\n",
    "\n",
    "# for every prediction of a model\n",
    "for i in range(pred_len):\n",
    "    # take a particular model\n",
    "    for j, preds in enumerate(predictions_for_each_model):\n",
    "        count_cat = copy.deepcopy(count_for_categories)\n",
    "        count_cat[cat_to_number_each_model[j][str(int(preds[i]))]] += 1\n",
    "    winner = max(count_cat, key=count_cat.get)\n",
    "    combo_predictions.append(winner)"
   ]
  },
  {
   "cell_type": "markdown",
   "metadata": {},
   "source": [
    "### поиграться с С"
   ]
  },
  {
   "cell_type": "code",
   "execution_count": 12,
   "metadata": {},
   "outputs": [
    {
     "name": "stdout",
     "output_type": "stream",
     "text": [
      "accuracy is  0.0013287775246772968\n"
     ]
    }
   ],
   "source": [
    "print('accuracy is ', accuracy(labels,combo_predictions))"
   ]
  },
  {
   "cell_type": "code",
   "execution_count": null,
   "metadata": {
    "collapsed": true
   },
   "outputs": [],
   "source": []
  }
 ],
 "metadata": {
  "kernelspec": {
   "display_name": "Python 3",
   "language": "python",
   "name": "python3"
  },
  "language_info": {
   "codemirror_mode": {
    "name": "ipython",
    "version": 3
   },
   "file_extension": ".py",
   "mimetype": "text/x-python",
   "name": "python",
   "nbconvert_exporter": "python",
   "pygments_lexer": "ipython3",
   "version": "3.6.2"
  }
 },
 "nbformat": 4,
 "nbformat_minor": 2
}
