{
 "cells": [
  {
   "cell_type": "markdown",
   "metadata": {},
   "source": [
    "### удалить какие-то фичи"
   ]
  },
  {
   "cell_type": "code",
   "execution_count": 1,
   "metadata": {
    "collapsed": true
   },
   "outputs": [],
   "source": [
    "import pandas as pd\n",
    "import numpy as np\n",
    "from sklearn.model_selection import train_test_split\n",
    "from kernels import Kernel\n",
    "import svm\n",
    "import time\n",
    "from sklearn import svm as sksvm"
   ]
  },
  {
   "cell_type": "code",
   "execution_count": 2,
   "metadata": {
    "collapsed": true
   },
   "outputs": [],
   "source": [
    "def accuracy(x, y):\n",
    "    count = 0\n",
    "    for i in range(len(x)):\n",
    "        if x[i] == y[i]:\n",
    "            count += 1\n",
    "    return count/len(x)"
   ]
  },
  {
   "cell_type": "code",
   "execution_count": 17,
   "metadata": {},
   "outputs": [
    {
     "data": {
      "text/html": [
       "<div>\n",
       "<style>\n",
       "    .dataframe thead tr:only-child th {\n",
       "        text-align: right;\n",
       "    }\n",
       "\n",
       "    .dataframe thead th {\n",
       "        text-align: left;\n",
       "    }\n",
       "\n",
       "    .dataframe tbody tr th {\n",
       "        vertical-align: top;\n",
       "    }\n",
       "</style>\n",
       "<table border=\"1\" class=\"dataframe\">\n",
       "  <thead>\n",
       "    <tr style=\"text-align: right;\">\n",
       "      <th></th>\n",
       "      <th>Category</th>\n",
       "      <th>X</th>\n",
       "      <th>Y</th>\n",
       "      <th>PdDistrict_BAYVIEW</th>\n",
       "      <th>PdDistrict_CENTRAL</th>\n",
       "      <th>PdDistrict_INGLESIDE</th>\n",
       "      <th>PdDistrict_MISSION</th>\n",
       "      <th>PdDistrict_NORTHERN</th>\n",
       "      <th>PdDistrict_PARK</th>\n",
       "      <th>PdDistrict_RICHMOND</th>\n",
       "      <th>...</th>\n",
       "      <th>Hour_14</th>\n",
       "      <th>Hour_15</th>\n",
       "      <th>Hour_16</th>\n",
       "      <th>Hour_17</th>\n",
       "      <th>Hour_18</th>\n",
       "      <th>Hour_19</th>\n",
       "      <th>Hour_20</th>\n",
       "      <th>Hour_21</th>\n",
       "      <th>Hour_22</th>\n",
       "      <th>Hour_23</th>\n",
       "    </tr>\n",
       "  </thead>\n",
       "  <tbody>\n",
       "    <tr>\n",
       "      <th>0</th>\n",
       "      <td>WARRANTS</td>\n",
       "      <td>-122.425892</td>\n",
       "      <td>37.774599</td>\n",
       "      <td>0</td>\n",
       "      <td>0</td>\n",
       "      <td>0</td>\n",
       "      <td>0</td>\n",
       "      <td>1</td>\n",
       "      <td>0</td>\n",
       "      <td>0</td>\n",
       "      <td>...</td>\n",
       "      <td>0</td>\n",
       "      <td>0</td>\n",
       "      <td>0</td>\n",
       "      <td>0</td>\n",
       "      <td>0</td>\n",
       "      <td>0</td>\n",
       "      <td>0</td>\n",
       "      <td>0</td>\n",
       "      <td>0</td>\n",
       "      <td>1</td>\n",
       "    </tr>\n",
       "    <tr>\n",
       "      <th>1</th>\n",
       "      <td>OTHER OFFENSES</td>\n",
       "      <td>-122.425892</td>\n",
       "      <td>37.774599</td>\n",
       "      <td>0</td>\n",
       "      <td>0</td>\n",
       "      <td>0</td>\n",
       "      <td>0</td>\n",
       "      <td>1</td>\n",
       "      <td>0</td>\n",
       "      <td>0</td>\n",
       "      <td>...</td>\n",
       "      <td>0</td>\n",
       "      <td>0</td>\n",
       "      <td>0</td>\n",
       "      <td>0</td>\n",
       "      <td>0</td>\n",
       "      <td>0</td>\n",
       "      <td>0</td>\n",
       "      <td>0</td>\n",
       "      <td>0</td>\n",
       "      <td>1</td>\n",
       "    </tr>\n",
       "    <tr>\n",
       "      <th>2</th>\n",
       "      <td>OTHER OFFENSES</td>\n",
       "      <td>-122.424363</td>\n",
       "      <td>37.800414</td>\n",
       "      <td>0</td>\n",
       "      <td>0</td>\n",
       "      <td>0</td>\n",
       "      <td>0</td>\n",
       "      <td>1</td>\n",
       "      <td>0</td>\n",
       "      <td>0</td>\n",
       "      <td>...</td>\n",
       "      <td>0</td>\n",
       "      <td>0</td>\n",
       "      <td>0</td>\n",
       "      <td>0</td>\n",
       "      <td>0</td>\n",
       "      <td>0</td>\n",
       "      <td>0</td>\n",
       "      <td>0</td>\n",
       "      <td>0</td>\n",
       "      <td>1</td>\n",
       "    </tr>\n",
       "    <tr>\n",
       "      <th>3</th>\n",
       "      <td>LARCENY/THEFT</td>\n",
       "      <td>-122.426995</td>\n",
       "      <td>37.800873</td>\n",
       "      <td>0</td>\n",
       "      <td>0</td>\n",
       "      <td>0</td>\n",
       "      <td>0</td>\n",
       "      <td>1</td>\n",
       "      <td>0</td>\n",
       "      <td>0</td>\n",
       "      <td>...</td>\n",
       "      <td>0</td>\n",
       "      <td>0</td>\n",
       "      <td>0</td>\n",
       "      <td>0</td>\n",
       "      <td>0</td>\n",
       "      <td>0</td>\n",
       "      <td>0</td>\n",
       "      <td>0</td>\n",
       "      <td>0</td>\n",
       "      <td>1</td>\n",
       "    </tr>\n",
       "    <tr>\n",
       "      <th>4</th>\n",
       "      <td>LARCENY/THEFT</td>\n",
       "      <td>-122.438738</td>\n",
       "      <td>37.771541</td>\n",
       "      <td>0</td>\n",
       "      <td>0</td>\n",
       "      <td>0</td>\n",
       "      <td>0</td>\n",
       "      <td>0</td>\n",
       "      <td>1</td>\n",
       "      <td>0</td>\n",
       "      <td>...</td>\n",
       "      <td>0</td>\n",
       "      <td>0</td>\n",
       "      <td>0</td>\n",
       "      <td>0</td>\n",
       "      <td>0</td>\n",
       "      <td>0</td>\n",
       "      <td>0</td>\n",
       "      <td>0</td>\n",
       "      <td>0</td>\n",
       "      <td>1</td>\n",
       "    </tr>\n",
       "  </tbody>\n",
       "</table>\n",
       "<p>5 rows × 93 columns</p>\n",
       "</div>"
      ],
      "text/plain": [
       "         Category           X          Y  PdDistrict_BAYVIEW  \\\n",
       "0        WARRANTS -122.425892  37.774599                   0   \n",
       "1  OTHER OFFENSES -122.425892  37.774599                   0   \n",
       "2  OTHER OFFENSES -122.424363  37.800414                   0   \n",
       "3   LARCENY/THEFT -122.426995  37.800873                   0   \n",
       "4   LARCENY/THEFT -122.438738  37.771541                   0   \n",
       "\n",
       "   PdDistrict_CENTRAL  PdDistrict_INGLESIDE  PdDistrict_MISSION  \\\n",
       "0                   0                     0                   0   \n",
       "1                   0                     0                   0   \n",
       "2                   0                     0                   0   \n",
       "3                   0                     0                   0   \n",
       "4                   0                     0                   0   \n",
       "\n",
       "   PdDistrict_NORTHERN  PdDistrict_PARK  PdDistrict_RICHMOND   ...     \\\n",
       "0                    1                0                    0   ...      \n",
       "1                    1                0                    0   ...      \n",
       "2                    1                0                    0   ...      \n",
       "3                    1                0                    0   ...      \n",
       "4                    0                1                    0   ...      \n",
       "\n",
       "   Hour_14  Hour_15  Hour_16  Hour_17  Hour_18  Hour_19  Hour_20  Hour_21  \\\n",
       "0        0        0        0        0        0        0        0        0   \n",
       "1        0        0        0        0        0        0        0        0   \n",
       "2        0        0        0        0        0        0        0        0   \n",
       "3        0        0        0        0        0        0        0        0   \n",
       "4        0        0        0        0        0        0        0        0   \n",
       "\n",
       "   Hour_22  Hour_23  \n",
       "0        0        1  \n",
       "1        0        1  \n",
       "2        0        1  \n",
       "3        0        1  \n",
       "4        0        1  \n",
       "\n",
       "[5 rows x 93 columns]"
      ]
     },
     "execution_count": 17,
     "metadata": {},
     "output_type": "execute_result"
    }
   ],
   "source": [
    "train = pd.read_csv('/Users/grigoriipogorelov/Desktop/train.csv')\n",
    "train['Date'] = pd.to_datetime(train['Dates'], errors='coerce')\n",
    "train['Year'] = train['Date'].dt.year\n",
    "train['Month'] = train['Date'].dt.month\n",
    "train['WeekOfYear'] = train['Date'].dt.weekofyear\n",
    "train['Day'] = train['Date'].dt.day\n",
    "train['Time'] = train['Date'].dt.time\n",
    "train['Hour'] = train['Date'].dt.hour\n",
    "# train = train.drop(['Dates','Date','Time','Resolution','Descript','Address'], axis=1)\n",
    "train = train.drop(['Dates','Date','Time','Resolution','Descript','Address','DayOfWeek', 'WeekOfYear'], axis=1)\n",
    "\n",
    "# cat_cols = ['DayOfWeek', 'PdDistrict', 'Year', 'Month', 'WeekOfYear', 'Day', 'Hour']\n",
    "cat_cols = ['PdDistrict', 'Year', 'Month', 'Day', 'Hour']\n",
    "for cat in cat_cols:\n",
    "    train = pd.get_dummies(train, columns=[cat])\n",
    "train.head()"
   ]
  },
  {
   "cell_type": "code",
   "execution_count": 4,
   "metadata": {
    "collapsed": true
   },
   "outputs": [],
   "source": [
    "train_proportion = 0.02\n",
    "train_len = len(train)\n",
    "train = train.sample(frac=1)\n",
    "train = train.iloc[:int(len(train)*train_proportion)]\n",
    "\n",
    "\n",
    "cats = ['LARCENY/THEFT', 'OTHER OFFENSES']      ##.   численно вывести\n",
    "train_0 = train.loc[train['Category'] == cats[0]]\n",
    "train_1 = train.loc[train['Category'] == cats[1]]\n",
    "frames = [train_0, train_1]\n",
    "data = pd.concat(frames)\n",
    "\n",
    "\n",
    "data = data.as_matrix()\n",
    "data[data == cats[0]] = 1\n",
    "data[data == cats[1]] = -1\n",
    "data = np.array(data, dtype='float')\n",
    "X_train, X_test, y_train, y_test = train_test_split(data[:, 1:], data[:, 0])"
   ]
  },
  {
   "cell_type": "code",
   "execution_count": 5,
   "metadata": {},
   "outputs": [
    {
     "name": "stdout",
     "output_type": "stream",
     "text": [
      "(7839, 92)\n",
      "(2614, 92)\n"
     ]
    }
   ],
   "source": [
    "print(X_train.shape)\n",
    "print(X_test.shape)"
   ]
  },
  {
   "cell_type": "code",
   "execution_count": 6,
   "metadata": {
    "scrolled": true
   },
   "outputs": [
    {
     "name": "stdout",
     "output_type": "stream",
     "text": [
      "     pcost       dcost       gap    pres   dres\n",
      " 0: -3.7885e+03 -1.9115e+03  6e+04  3e+01  2e-09\n",
      " 1: -5.8350e+02 -1.8348e+03  3e+03  7e-01  1e-09\n",
      " 2: -5.1197e+02 -8.8073e+02  4e+02  1e-14  3e-10\n",
      " 3: -5.5721e+02 -6.8939e+02  1e+02  2e-14  2e-10\n",
      " 4: -5.6942e+02 -6.1697e+02  5e+01  1e-14  3e-10\n",
      " 5: -5.7430e+02 -5.9052e+02  2e+01  1e-14  3e-10\n",
      " 6: -5.7679e+02 -5.7920e+02  2e+00  1e-14  3e-10\n",
      " 7: -5.7714e+02 -5.7762e+02  5e-01  3e-14  3e-10\n",
      " 8: -5.7719e+02 -5.7744e+02  3e-01  1e-15  3e-10\n",
      " 9: -5.7721e+02 -5.7739e+02  2e-01  1e-14  2e-10\n",
      "10: -5.7722e+02 -5.7734e+02  1e-01  4e-15  2e-10\n",
      "11: -5.7723e+02 -5.7732e+02  8e-02  1e-14  2e-10\n",
      "12: -5.7724e+02 -5.7730e+02  6e-02  7e-15  2e-10\n",
      "13: -5.7725e+02 -5.7728e+02  3e-02  1e-15  2e-10\n",
      "14: -5.7725e+02 -5.7728e+02  2e-02  3e-14  2e-10\n",
      "15: -5.7726e+02 -5.7727e+02  2e-02  1e-14  2e-10\n",
      "16: -5.7726e+02 -5.7727e+02  9e-03  9e-15  2e-10\n",
      "17: -5.7726e+02 -5.7726e+02  5e-03  2e-14  2e-10\n",
      "18: -5.7726e+02 -5.7726e+02  2e-03  2e-14  3e-10\n",
      "19: -5.7726e+02 -5.7726e+02  8e-04  1e-14  2e-10\n",
      "20: -5.7726e+02 -5.7726e+02  4e-04  1e-14  2e-10\n",
      "Optimal solution found.\n",
      "13  minutes for training\n",
      "0  minutes for predicting\n"
     ]
    }
   ],
   "source": [
    "start = time.time()\n",
    "C = 0.1\n",
    "trainer = svm.SVMTrainer(kernel=Kernel.linear(), c=C)\n",
    "model = trainer.train(X_train, y_train)\n",
    "end = time.time()\n",
    "print(int((end - start) / 60), ' minutes for training')\n",
    "\n",
    "\n",
    "start = time.time()\n",
    "predictions = []\n",
    "for x in X_test:\n",
    "    predictions.append(model.predict(x))\n",
    "end = time.time()\n",
    "print(int((end - start) / 60), ' minutes for predicting')"
   ]
  },
  {
   "cell_type": "code",
   "execution_count": 7,
   "metadata": {
    "collapsed": true
   },
   "outputs": [],
   "source": [
    "clf = sksvm.SVC()\n",
    "clf.fit(X_train, y_train)\n",
    "pred_real_svm = clf.predict(X_test)"
   ]
  },
  {
   "cell_type": "code",
   "execution_count": 8,
   "metadata": {},
   "outputs": [
    {
     "name": "stdout",
     "output_type": "stream",
     "text": [
      "my accuracy is  0.6231828615149196\n",
      "scikit accuracy is  0.6231828615149196\n"
     ]
    }
   ],
   "source": [
    "print('my accuracy is ', accuracy(y_test, predictions))\n",
    "print('scikit accuracy is ', accuracy(y_test, pred_real_svm))"
   ]
  },
  {
   "cell_type": "markdown",
   "metadata": {},
   "source": [
    "data = 0.02, 0.025\n",
    "accuracy - идеально совпадает, блять"
   ]
  }
 ],
 "metadata": {
  "kernelspec": {
   "display_name": "Python 3",
   "language": "python",
   "name": "python3"
  },
  "language_info": {
   "codemirror_mode": {
    "name": "ipython",
    "version": 3
   },
   "file_extension": ".py",
   "mimetype": "text/x-python",
   "name": "python",
   "nbconvert_exporter": "python",
   "pygments_lexer": "ipython3",
   "version": "3.6.2"
  }
 },
 "nbformat": 4,
 "nbformat_minor": 2
}
